{
 "cells": [
  {
   "cell_type": "code",
   "execution_count": 1,
   "metadata": {},
   "outputs": [],
   "source": [
    "import os\n",
    "import cv2 \n",
    "import numpy as np"
   ]
  },
  {
   "cell_type": "code",
   "execution_count": 15,
   "metadata": {},
   "outputs": [],
   "source": [
    "face_cascade = cv2.CascadeClassifier(cv2.data.haarcascades + 'haarcascade_frontalface_default.xml')\n",
    "yawn_class_valid_split_path = r'F:\\Artificial Intelligence\\Deep Learning\\Drowsiness Detection\\Yawning Detection\\validation\\yawn'\n",
    "no_yawn_class_valid_split_path = r'F:\\Artificial Intelligence\\Deep Learning\\Drowsiness Detection\\Yawning Detection\\validation\\no_yawn'"
   ]
  },
  {
   "cell_type": "code",
   "execution_count": 21,
   "metadata": {},
   "outputs": [],
   "source": [
    "frame_count = 0\n",
    "cam_src = cv2.VideoCapture(0)\n",
    "\n",
    "while frame_count < 200:\n",
    "    ret, frame = cam_src.read()\n",
    "\n",
    "    if ret:\n",
    "        frame = cv2.resize(frame, (frame.shape[0]+100, frame.shape[1]))\n",
    "        gray = cv2.cvtColor(frame, cv2.COLOR_BGR2GRAY)\n",
    "        faces = face_cascade.detectMultiScale(gray, 1.3, 5)   \n",
    "\n",
    "        for i, (x, y, w, h) in enumerate(faces):\n",
    "            face = frame[y:y+h, x:x+w]\n",
    "            cv2.imwrite(os.path.join(yawn_class_valid_split_path, f'{frame_count}-{i}.jpg'), face)\n",
    "            frame_count += 1\n",
    "        \n",
    "        for (x, y, w, h) in faces:\n",
    "            cv2.rectangle(frame, (x, y), (x+w, y+h+50), (0, 255, 0), 1)\n",
    "\n",
    "        cv2.imshow('Yawn Face Data Collection', frame)\n",
    "        k = cv2.waitKey(1)  \n",
    "        if k == 27:\n",
    "            break\n",
    "\n",
    "cam_src.release()\n",
    "cv2.destroyAllWindows()"
   ]
  },
  {
   "cell_type": "code",
   "execution_count": 7,
   "metadata": {},
   "outputs": [],
   "source": [
    "frame_count = 0\n",
    "cam_src = cv2.VideoCapture(0)\n",
    "\n",
    "while frame_count < 200:\n",
    "    ret, frame = cam_src.read()\n",
    "\n",
    "    if ret:\n",
    "        frame = cv2.resize(frame, (frame.shape[0]+100, frame.shape[1]))\n",
    "        gray = cv2.cvtColor(frame, cv2.COLOR_BGR2GRAY)\n",
    "        faces = face_cascade.detectMultiScale(gray, 1.3, 5)   \n",
    "\n",
    "        for i, (x, y, w, h) in enumerate(faces):\n",
    "            face = frame[y:y+h, x:x+w]\n",
    "            cv2.imwrite(os.path.join(no_yawn_class_valid_split_path, f'{frame_count}-{i}.jpg'), face)\n",
    "            frame_count += 1\n",
    "        \n",
    "        for (x, y, w, h) in faces:\n",
    "            cv2.rectangle(frame, (x, y), (x+w, y+h+25), (0, 255, 0), 1)\n",
    "\n",
    "        cv2.imshow('No Yawn Face Data Collection', frame)\n",
    "        k = cv2.waitKey(1)  \n",
    "        if k == 27:\n",
    "            break\n",
    "\n",
    "cam_src.release()\n",
    "cv2.destroyAllWindows()"
   ]
  },
  {
   "cell_type": "code",
   "execution_count": null,
   "metadata": {},
   "outputs": [],
   "source": []
  }
 ],
 "metadata": {
  "kernelspec": {
   "display_name": "Python 3",
   "language": "python",
   "name": "python3"
  },
  "language_info": {
   "codemirror_mode": {
    "name": "ipython",
    "version": 3
   },
   "file_extension": ".py",
   "mimetype": "text/x-python",
   "name": "python",
   "nbconvert_exporter": "python",
   "pygments_lexer": "ipython3",
   "version": "3.10.2 (tags/v3.10.2:a58ebcc, Jan 17 2022, 14:12:15) [MSC v.1929 64 bit (AMD64)]"
  },
  "orig_nbformat": 4,
  "vscode": {
   "interpreter": {
    "hash": "b2b9ed2f758ea7019c62ddc2c4686da189c449cf25e556e37851562caab2f41e"
   }
  }
 },
 "nbformat": 4,
 "nbformat_minor": 2
}
